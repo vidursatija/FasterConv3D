{
  "nbformat": 4,
  "nbformat_minor": 0,
  "metadata": {
    "colab": {
      "name": "Untitled6.ipynb",
      "provenance": []
    },
    "kernelspec": {
      "name": "python3",
      "display_name": "Python 3"
    },
    "accelerator": "GPU"
  },
  "cells": [
    {
      "cell_type": "code",
      "metadata": {
        "id": "27s-i6hK-vQt",
        "colab_type": "code",
        "colab": {
          "base_uri": "https://localhost:8080/",
          "height": 918
        },
        "outputId": "3ec6fb57-26a5-497e-f521-9ed7597979d6"
      },
      "source": [
        "!python3 -m pip install tensorflow-gpu==1.15 tqdm"
      ],
      "execution_count": 1,
      "outputs": [
        {
          "output_type": "stream",
          "text": [
            "Collecting tensorflow-gpu==1.15\n",
            "\u001b[?25l  Downloading https://files.pythonhosted.org/packages/a5/ad/933140e74973fb917a194ab814785e7c23680ca5dee6d663a509fe9579b6/tensorflow_gpu-1.15.0-cp36-cp36m-manylinux2010_x86_64.whl (411.5MB)\n",
            "\u001b[K     |████████████████████████████████| 411.5MB 37kB/s \n",
            "\u001b[?25hRequirement already satisfied: tqdm in /usr/local/lib/python3.6/dist-packages (4.41.1)\n",
            "Requirement already satisfied: protobuf>=3.6.1 in /usr/local/lib/python3.6/dist-packages (from tensorflow-gpu==1.15) (3.12.4)\n",
            "Collecting keras-applications>=1.0.8\n",
            "\u001b[?25l  Downloading https://files.pythonhosted.org/packages/71/e3/19762fdfc62877ae9102edf6342d71b28fbfd9dea3d2f96a882ce099b03f/Keras_Applications-1.0.8-py3-none-any.whl (50kB)\n",
            "\u001b[K     |████████████████████████████████| 51kB 6.1MB/s \n",
            "\u001b[?25hRequirement already satisfied: keras-preprocessing>=1.0.5 in /usr/local/lib/python3.6/dist-packages (from tensorflow-gpu==1.15) (1.1.2)\n",
            "Requirement already satisfied: astor>=0.6.0 in /usr/local/lib/python3.6/dist-packages (from tensorflow-gpu==1.15) (0.8.1)\n",
            "Requirement already satisfied: numpy<2.0,>=1.16.0 in /usr/local/lib/python3.6/dist-packages (from tensorflow-gpu==1.15) (1.18.5)\n",
            "Collecting tensorboard<1.16.0,>=1.15.0\n",
            "\u001b[?25l  Downloading https://files.pythonhosted.org/packages/1e/e9/d3d747a97f7188f48aa5eda486907f3b345cd409f0a0850468ba867db246/tensorboard-1.15.0-py3-none-any.whl (3.8MB)\n",
            "\u001b[K     |████████████████████████████████| 3.8MB 37.9MB/s \n",
            "\u001b[?25hRequirement already satisfied: google-pasta>=0.1.6 in /usr/local/lib/python3.6/dist-packages (from tensorflow-gpu==1.15) (0.2.0)\n",
            "Requirement already satisfied: six>=1.10.0 in /usr/local/lib/python3.6/dist-packages (from tensorflow-gpu==1.15) (1.15.0)\n",
            "Requirement already satisfied: absl-py>=0.7.0 in /usr/local/lib/python3.6/dist-packages (from tensorflow-gpu==1.15) (0.8.1)\n",
            "Requirement already satisfied: wrapt>=1.11.1 in /usr/local/lib/python3.6/dist-packages (from tensorflow-gpu==1.15) (1.12.1)\n",
            "Collecting tensorflow-estimator==1.15.1\n",
            "\u001b[?25l  Downloading https://files.pythonhosted.org/packages/de/62/2ee9cd74c9fa2fa450877847ba560b260f5d0fb70ee0595203082dafcc9d/tensorflow_estimator-1.15.1-py2.py3-none-any.whl (503kB)\n",
            "\u001b[K     |████████████████████████████████| 512kB 39.8MB/s \n",
            "\u001b[?25hRequirement already satisfied: termcolor>=1.1.0 in /usr/local/lib/python3.6/dist-packages (from tensorflow-gpu==1.15) (1.1.0)\n",
            "Requirement already satisfied: grpcio>=1.8.6 in /usr/local/lib/python3.6/dist-packages (from tensorflow-gpu==1.15) (1.31.0)\n",
            "Collecting gast==0.2.2\n",
            "  Downloading https://files.pythonhosted.org/packages/4e/35/11749bf99b2d4e3cceb4d55ca22590b0d7c2c62b9de38ac4a4a7f4687421/gast-0.2.2.tar.gz\n",
            "Requirement already satisfied: opt-einsum>=2.3.2 in /usr/local/lib/python3.6/dist-packages (from tensorflow-gpu==1.15) (3.3.0)\n",
            "Requirement already satisfied: wheel>=0.26 in /usr/local/lib/python3.6/dist-packages (from tensorflow-gpu==1.15) (0.35.1)\n",
            "Requirement already satisfied: setuptools in /usr/local/lib/python3.6/dist-packages (from protobuf>=3.6.1->tensorflow-gpu==1.15) (49.6.0)\n",
            "Requirement already satisfied: h5py in /usr/local/lib/python3.6/dist-packages (from keras-applications>=1.0.8->tensorflow-gpu==1.15) (2.10.0)\n",
            "Requirement already satisfied: markdown>=2.6.8 in /usr/local/lib/python3.6/dist-packages (from tensorboard<1.16.0,>=1.15.0->tensorflow-gpu==1.15) (3.2.2)\n",
            "Requirement already satisfied: werkzeug>=0.11.15 in /usr/local/lib/python3.6/dist-packages (from tensorboard<1.16.0,>=1.15.0->tensorflow-gpu==1.15) (1.0.1)\n",
            "Requirement already satisfied: importlib-metadata; python_version < \"3.8\" in /usr/local/lib/python3.6/dist-packages (from markdown>=2.6.8->tensorboard<1.16.0,>=1.15.0->tensorflow-gpu==1.15) (1.7.0)\n",
            "Requirement already satisfied: zipp>=0.5 in /usr/local/lib/python3.6/dist-packages (from importlib-metadata; python_version < \"3.8\"->markdown>=2.6.8->tensorboard<1.16.0,>=1.15.0->tensorflow-gpu==1.15) (3.1.0)\n",
            "Building wheels for collected packages: gast\n",
            "  Building wheel for gast (setup.py) ... \u001b[?25l\u001b[?25hdone\n",
            "  Created wheel for gast: filename=gast-0.2.2-cp36-none-any.whl size=7542 sha256=ebaa8e2e547c60028d3efcc99d597141d6a5cd37214fe4db8f9bbdd22b84cea1\n",
            "  Stored in directory: /root/.cache/pip/wheels/5c/2e/7e/a1d4d4fcebe6c381f378ce7743a3ced3699feb89bcfbdadadd\n",
            "Successfully built gast\n",
            "\u001b[31mERROR: tensorflow 2.3.0 has requirement gast==0.3.3, but you'll have gast 0.2.2 which is incompatible.\u001b[0m\n",
            "\u001b[31mERROR: tensorflow 2.3.0 has requirement tensorboard<3,>=2.3.0, but you'll have tensorboard 1.15.0 which is incompatible.\u001b[0m\n",
            "\u001b[31mERROR: tensorflow 2.3.0 has requirement tensorflow-estimator<2.4.0,>=2.3.0, but you'll have tensorflow-estimator 1.15.1 which is incompatible.\u001b[0m\n",
            "\u001b[31mERROR: tensorflow-probability 0.11.0 has requirement gast>=0.3.2, but you'll have gast 0.2.2 which is incompatible.\u001b[0m\n",
            "Installing collected packages: keras-applications, tensorboard, tensorflow-estimator, gast, tensorflow-gpu\n",
            "  Found existing installation: tensorboard 2.3.0\n",
            "    Uninstalling tensorboard-2.3.0:\n",
            "      Successfully uninstalled tensorboard-2.3.0\n",
            "  Found existing installation: tensorflow-estimator 2.3.0\n",
            "    Uninstalling tensorflow-estimator-2.3.0:\n",
            "      Successfully uninstalled tensorflow-estimator-2.3.0\n",
            "  Found existing installation: gast 0.3.3\n",
            "    Uninstalling gast-0.3.3:\n",
            "      Successfully uninstalled gast-0.3.3\n",
            "Successfully installed gast-0.2.2 keras-applications-1.0.8 tensorboard-1.15.0 tensorflow-estimator-1.15.1 tensorflow-gpu-1.15.0\n"
          ],
          "name": "stdout"
        }
      ]
    },
    {
      "cell_type": "code",
      "metadata": {
        "id": "8U1yoxdH3e1m",
        "colab_type": "code",
        "colab": {}
      },
      "source": [
        "import tensorflow as tf\n",
        "import numpy as np\n",
        "from tqdm import tqdm\n",
        "sess = tf.InteractiveSession()"
      ],
      "execution_count": 2,
      "outputs": []
    },
    {
      "cell_type": "code",
      "metadata": {
        "id": "rkplHiEl34rL",
        "colab_type": "code",
        "colab": {}
      },
      "source": [
        "class N3D():\n",
        "  def __init__(self, n):\n",
        "    self.filters = []\n",
        "    self.biases = []\n",
        "    for i in range(n):\n",
        "      self.filters.append(tf.random.normal([3, 3, 3, 32, 32], mean=0.0, stddev=1.0, dtype=tf.dtypes.float32, name=\"f%d\"%i))\n",
        "      self.biases.append(tf.random.normal([1, 1, 1, 1, 32], mean=0.0, stddev=1.0, dtype=tf.dtypes.float32, name=\"b%d\"%i))\n",
        "  \n",
        "  def gen_graph(self, x):\n",
        "    # x = (N, D, H, W, 32)\n",
        "    for f, b in zip(self.filters, self.biases):\n",
        "      x = tf.nn.conv3d(x, filter=f, strides=[1, 1, 1, 1, 1], padding=\"SAME\", data_format='NDHWC', dilations=[1, 1, 1, 1, 1])\n",
        "      x = x + b\n",
        "    \n",
        "    return x\n",
        "\n",
        "class N2D():\n",
        "  def __init__(self, n):\n",
        "    self.filters1 = []\n",
        "    self.filters2 = []\n",
        "    self.filters3 = []\n",
        "    self.biases = []\n",
        "    for i in range(n):\n",
        "      self.filters1.append(tf.random.normal([3, 1, 32, 32], mean=0.0, stddev=1.0, dtype=tf.dtypes.float32, name=\"f1_%d\"%i)) # N*D, H, W, C\n",
        "      self.filters2.append(tf.random.normal([1, 3, 32, 32], mean=0.0, stddev=1.0, dtype=tf.dtypes.float32, name=\"f2_%d\"%i)) # N*D, H, W, C\n",
        "      self.filters3.append(tf.random.normal([3, 1, 32, 32], mean=0.0, stddev=1.0, dtype=tf.dtypes.float32, name=\"f3_%d\"%i)) # N, D, H*W, C\n",
        "      self.biases.append(tf.random.normal([1, 1, 1, 32], mean=0.0, stddev=1.0, dtype=tf.dtypes.float32, name=\"b_%d\"%i)) # N, D, H*W, C\n",
        "  \n",
        "  def gen_graph(self, x, n, d, h, w, c): # n is batch size\n",
        "    # x = (N*D, H, W, 3)\n",
        "    for f1, f2, f3, b in zip(self.filters1, self.filters2, self.filters3, self.biases):\n",
        "      x = tf.nn.conv2d(x, filter=f1, strides=[1, 1, 1, 1], padding=\"SAME\", data_format='NHWC', dilations=[1, 1, 1, 1])\n",
        "      x = tf.nn.conv2d(x, filter=f2, strides=[1, 1, 1, 1], padding=\"SAME\", data_format='NHWC', dilations=[1, 1, 1, 1])\n",
        "      x = tf.reshape(x, [n, -1, h*w, c])\n",
        "      x = tf.nn.conv2d(x, filter=f3, strides=[1, 1, 1, 1], padding=\"SAME\", data_format='NHWC', dilations=[1, 1, 1, 1])\n",
        "      x = x + b\n",
        "      x = tf.reshape(x, [n*d, h, w, c])\n",
        "    \n",
        "    return x"
      ],
      "execution_count": 3,
      "outputs": []
    },
    {
      "cell_type": "code",
      "metadata": {
        "id": "flHxBnRjFhnl",
        "colab_type": "code",
        "colab": {}
      },
      "source": [
        "n1 = N3D(10)\n",
        "n2 = N2D(10)\n",
        "\n",
        "x1 = tf.placeholder(dtype=tf.float32, shape=[2, 8, 128, 128, 32])\n",
        "x2 = tf.placeholder(dtype=tf.float32, shape=[2*8, 128, 128, 32])\n",
        "\n",
        "y1 = n1.gen_graph(x1)\n",
        "y2 = n2.gen_graph(x2, 2, 8, 128, 128, 32)"
      ],
      "execution_count": 4,
      "outputs": []
    },
    {
      "cell_type": "code",
      "metadata": {
        "id": "_wqFv8giF0KZ",
        "colab_type": "code",
        "colab": {
          "base_uri": "https://localhost:8080/",
          "height": 51
        },
        "outputId": "dda19aeb-5401-4a23-dfd3-eb88c13b8e59"
      },
      "source": [
        "xx = np.random.rand(2, 8, 128, 128, 32)\n",
        "xx2 = np.random.rand(2*8, 128, 128, 32)\n",
        "\n",
        "for _ in tqdm(range(1000)):\n",
        "  _ = sess.run(y1, feed_dict={x1: xx})\n",
        "\n",
        "for _ in tqdm(range(1000)):\n",
        "  _ = sess.run(y2, feed_dict={x2: xx2})"
      ],
      "execution_count": 5,
      "outputs": [
        {
          "output_type": "stream",
          "text": [
            "100%|██████████| 1000/1000 [03:58<00:00,  4.20it/s]\n",
            "100%|██████████| 1000/1000 [01:49<00:00,  9.11it/s]\n"
          ],
          "name": "stderr"
        }
      ]
    },
    {
      "cell_type": "code",
      "metadata": {
        "id": "-ln37k2VIY0Y",
        "colab_type": "code",
        "colab": {}
      },
      "source": [
        ""
      ],
      "execution_count": null,
      "outputs": []
    }
  ]
}